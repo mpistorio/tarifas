{
 "cells": [
  {
   "cell_type": "code",
   "execution_count": 2,
   "id": "181d8848",
   "metadata": {},
   "outputs": [
    {
     "name": "stdout",
     "output_type": "stream",
     "text": [
      "El costo para 150 unidades de gas en Ciudad A es 300.0\n"
     ]
    }
   ],
   "source": [
    "import pandas as pd\n",
    "\n",
    "# Leer el archivo Excel\n",
    "df = pd.read_excel('tarifas_gas.xlsx')\n",
    "\n",
    "def calcular_costo(ciudad, consumo):\n",
    "    # Filtrar los datos para la ciudad correspondiente\n",
    "    tarifas = df[df['Ciudad'] == ciudad]\n",
    "    for index, row in tarifas.iterrows():\n",
    "        if row['Consumo_min'] <= consumo <= row['Consumo_max']:\n",
    "            return consumo * row['Tarifa']\n",
    "    return None\n",
    "\n",
    "# Ejemplo de uso\n",
    "ciudad = 'Ciudad A'\n",
    "consumo = 150\n",
    "costo = calcular_costo(ciudad, consumo)\n",
    "print(f'El costo para {consumo} unidades de gas en {ciudad} es {costo}')\n"
   ]
  }
 ],
 "metadata": {
  "kernelspec": {
   "display_name": "Python 3 (ipykernel)",
   "language": "python",
   "name": "python3"
  },
  "language_info": {
   "codemirror_mode": {
    "name": "ipython",
    "version": 3
   },
   "file_extension": ".py",
   "mimetype": "text/x-python",
   "name": "python",
   "nbconvert_exporter": "python",
   "pygments_lexer": "ipython3",
   "version": "3.11.3"
  }
 },
 "nbformat": 4,
 "nbformat_minor": 5
}
